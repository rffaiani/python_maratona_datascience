{
  "nbformat": 4,
  "nbformat_minor": 0,
  "metadata": {
    "colab": {
      "name": "Condicionais_em_R.ipynb",
      "provenance": [],
      "authorship_tag": "ABX9TyObamRoBRvH2/q0eahERQP4"
    },
    "kernelspec": {
      "name": "ir",
      "display_name": "R"
    }
  },
  "cells": [
    {
      "cell_type": "code",
      "metadata": {
        "colab": {
          "base_uri": "https://localhost:8080/"
        },
        "id": "vbuNfGF-JQ4e",
        "outputId": "8bfbe6ef-919a-4771-b2ef-41e425fb4cb8"
      },
      "source": [
        "#testando condicionais em R\r\n",
        "#desafio: crie um chatbot simples que pergunte ao usuário sua idade:\r\n",
        "\r\n",
        "idade = as.integer(readline(\"Qual a sua idade? > \"))\r\n",
        "if (idade>50){\r\n",
        "  print(\"Você é um adulto experiente!\")\r\n",
        "}else{\r\n",
        "  if (idade<19){\r\n",
        "    print(\"Você é uma criança!!!\")\r\n",
        "  }else{\r\n",
        "    print(\"Você é um adulto!\")\r\n",
        "  }\r\n",
        "}\r\n"
      ],
      "execution_count": 3,
      "outputs": [
        {
          "output_type": "stream",
          "text": [
            "Qual a sua idade? > 17\n",
            "[1] \"Você é uma criança!!!\"\n"
          ],
          "name": "stdout"
        }
      ]
    }
  ]
}