{
  "nbformat": 4,
  "nbformat_minor": 0,
  "metadata": {
    "colab": {
      "name": "MaratonaDataScience_Python_Fase1.ipynb",
      "provenance": [],
      "collapsed_sections": []
    },
    "kernelspec": {
      "name": "python3",
      "display_name": "Python 3"
    }
  },
  "cells": [
    {
      "cell_type": "markdown",
      "metadata": {
        "id": "CYNAmoj4zSXl"
      },
      "source": [
        "Crie um algoritmo em Python que mostre a mensagem \"Alo mundo\" na tela."
      ]
    },
    {
      "cell_type": "code",
      "metadata": {
        "colab": {
          "base_uri": "https://localhost:8080/"
        },
        "id": "DMZuyCX2DARE",
        "outputId": "e75e7adb-546f-4065-c38c-180dd6939524"
      },
      "source": [
        "print(\"Alô, mundão sem porteira!\")"
      ],
      "execution_count": 2,
      "outputs": [
        {
          "output_type": "stream",
          "text": [
            "Alô, mundão sem porteira!\n"
          ],
          "name": "stdout"
        }
      ]
    },
    {
      "cell_type": "markdown",
      "metadata": {
        "id": "gdMis92izSmQ"
      },
      "source": [
        "Crie um algoritmo em Python que peça dois números e imprima a soma."
      ]
    },
    {
      "cell_type": "code",
      "metadata": {
        "id": "18-WhcDWDpcw",
        "colab": {
          "base_uri": "https://localhost:8080/"
        },
        "outputId": "6d906c2a-3f7b-445e-e900-9e53aba95cb9"
      },
      "source": [
        "a = float(input(\"Entre com um número: \"))\r\n",
        "b = float(input(\"Entre com outro número: \"))\r\n",
        "soma = a + b\r\n",
        "\r\n",
        "print(f\"A soma dos dois números é: {soma}\")"
      ],
      "execution_count": 3,
      "outputs": [
        {
          "output_type": "stream",
          "text": [
            "Entre com um número: 5\n",
            "Entre com outro número: 7\n",
            "A soma dos dois números é: 12.0\n"
          ],
          "name": "stdout"
        }
      ]
    },
    {
      "cell_type": "markdown",
      "metadata": {
        "id": "E_0l_Vx6zSo2"
      },
      "source": [
        "Crie um algoritmo em Python que peça um número e então mostre a mensagem O número informado foi [número]."
      ]
    },
    {
      "cell_type": "code",
      "metadata": {
        "colab": {
          "base_uri": "https://localhost:8080/"
        },
        "id": "v6EqrqukgRwy",
        "outputId": "df0b221a-0a21-4b5f-97ee-4d73d0c3f320"
      },
      "source": [
        "numero = float(input(\"Entre com um número: \"))\r\n",
        "print(f\"O número informado foi: {numero}\")"
      ],
      "execution_count": 4,
      "outputs": [
        {
          "output_type": "stream",
          "text": [
            "Entre com um número: 5\n",
            "O número informado foi: 5.0\n"
          ],
          "name": "stdout"
        }
      ]
    },
    {
      "cell_type": "markdown",
      "metadata": {
        "id": "1i4VCiiczSrL"
      },
      "source": [
        "Crie um algoritmo em Python que converta metros para centímetros."
      ]
    },
    {
      "cell_type": "code",
      "metadata": {
        "colab": {
          "base_uri": "https://localhost:8080/"
        },
        "id": "USaWtOXKti-U",
        "outputId": "5142cfe1-61c2-4f00-f95a-91e4f293a6bb"
      },
      "source": [
        "metro = float(input(\"Entre com a metragem (em metros) para conversão: \"))\r\n",
        "centimetro = metro * 100\r\n",
        "print(f\"{metro} corresponde a {centimetro} centímetros\")"
      ],
      "execution_count": 5,
      "outputs": [
        {
          "output_type": "stream",
          "text": [
            "Entre com a metragem (em metros) para conversão: 1.2\n",
            "1.2 corresponde a 120.0 centímetros\n"
          ],
          "name": "stdout"
        }
      ]
    },
    {
      "cell_type": "markdown",
      "metadata": {
        "id": "4ep7kezvzStO"
      },
      "source": [
        "Crie um algoritmo em Python que peça as 4 notas bimestrais e mostre a média."
      ]
    },
    {
      "cell_type": "code",
      "metadata": {
        "colab": {
          "base_uri": "https://localhost:8080/"
        },
        "id": "7pZH1DU1u9dC",
        "outputId": "4886c533-0c24-449f-f82c-27efab2b44eb"
      },
      "source": [
        "a = float(input(\"Entre com a primeira nota bimestral: \"))\r\n",
        "b = float(input(\"Entre com a segunda nota bimestral: \"))\r\n",
        "c = float(input(\"Entre com a terceira nota bimestral: \"))\r\n",
        "d = float(input(\"Entre com a quarta nota bimestral: \"))\r\n",
        "\r\n",
        "media = (a+b+c+d) / 4\r\n",
        "\r\n",
        "print(f\"A média obtida nos bimestres é {media}: \")\r\n"
      ],
      "execution_count": 6,
      "outputs": [
        {
          "output_type": "stream",
          "text": [
            "Entre com a primeira nota bimestral: 10\n",
            "Entre com a segunda nota bimestral: 8\n",
            "Entre com a terceira nota bimestral: 8.5\n",
            "Entre com a quarta nota bimestral: 6\n",
            "A média obtida nos bimestres é 8.125: \n"
          ],
          "name": "stdout"
        }
      ]
    },
    {
      "cell_type": "markdown",
      "metadata": {
        "id": "u6__NaXqzeYg"
      },
      "source": [
        "Crie um algoritmo em Python que peça o raio de um círculo, calcule e mostre sua área."
      ]
    },
    {
      "cell_type": "code",
      "metadata": {
        "id": "mm2L7g3x0Cfx",
        "colab": {
          "base_uri": "https://localhost:8080/"
        },
        "outputId": "64a2569c-9eaa-4003-b85d-66cbaecb9ae4"
      },
      "source": [
        "# A área de um círculo é pi vezes o raio elevado ao quadrado (A = π r²)\r\n",
        "\r\n",
        "import math\r\n",
        "\r\n",
        "pi = math.pi\r\n",
        "raio = float(input(\"Entre com o valor do raio do círculo para cálculo da área: \"))\r\n",
        "\r\n",
        "area = pi * (raio**2)\r\n",
        "\r\n",
        "print(f\"O valor da área é: {area}\")"
      ],
      "execution_count": 7,
      "outputs": [
        {
          "output_type": "stream",
          "text": [
            "Entre com o valor do raio do círculo para cálculo da área: 2\n",
            "O valor da área é: 12.566370614359172\n"
          ],
          "name": "stdout"
        }
      ]
    },
    {
      "cell_type": "markdown",
      "metadata": {
        "id": "lIlfG-ATzgOr"
      },
      "source": [
        "Crie um algoritmo em Python que calcule a área de um quadrado, em seguida mostre o dobro desta área para o usuário."
      ]
    },
    {
      "cell_type": "code",
      "metadata": {
        "id": "-y4pB6br0DD_",
        "colab": {
          "base_uri": "https://localhost:8080/"
        },
        "outputId": "1194d6e6-a85d-4085-d98b-4d300f05bb3e"
      },
      "source": [
        "a = float(input(\"Entre com o valor do lado do quadrado: \"))\r\n",
        "area = a * a\r\n",
        "dobro = area * 2\r\n",
        "print(f\"A área do quadrado calculada é: {area}\")\r\n",
        "print(f\"O dobro da área é: {dobro}\")"
      ],
      "execution_count": 8,
      "outputs": [
        {
          "output_type": "stream",
          "text": [
            "Entre com o valor do lado do quadrado: 4\n",
            "A área do quadrado calculada é: 16.0\n",
            "O dobro da área é: 32.0\n"
          ],
          "name": "stdout"
        }
      ]
    },
    {
      "cell_type": "markdown",
      "metadata": {
        "id": "Vj4OXsJQziu_"
      },
      "source": [
        "Crie um algoritmo em Python que pergunte quanto você ganha por hora e o número de horas trabalhadas no mês. Calcule e mostre o total do seu salário no referido mês.\n"
      ]
    },
    {
      "cell_type": "code",
      "metadata": {
        "id": "RmApGpg30D00",
        "colab": {
          "base_uri": "https://localhost:8080/"
        },
        "outputId": "61a9dfa4-17f5-4440-de09-c4430dd50fd3"
      },
      "source": [
        "valor_hora = float(input(\"Entre com o valor que você ganha por hora: \"))\r\n",
        "horas_mes = float(input(\"Entre com as horas trabalhadas no mês: \"))\r\n",
        "\r\n",
        "salario = valor_hora * horas_mes\r\n",
        "\r\n",
        "print(f\"O valor do salário é: {salario}\")"
      ],
      "execution_count": 10,
      "outputs": [
        {
          "output_type": "stream",
          "text": [
            "Entre com o valor que você ganha por hora: 30\n",
            "Entre com as horas trabalhadas no mês: 200\n",
            "O valor do salário é: 6000.0\n"
          ],
          "name": "stdout"
        }
      ]
    },
    {
      "cell_type": "markdown",
      "metadata": {
        "id": "e7id8Ewgzlow"
      },
      "source": [
        "Crie um algoritmo em Python que peça a temperatura em graus Farenheit, transforme e mostre a temperatura em graus Celsius.\n",
        "C = (5 * (F-32) / 9)."
      ]
    },
    {
      "cell_type": "code",
      "metadata": {
        "id": "Kl0ainsv0Eif",
        "colab": {
          "base_uri": "https://localhost:8080/"
        },
        "outputId": "c392e64f-d34b-486f-b6cb-ceef077770bf"
      },
      "source": [
        "#(32 °F − 32) × 5/9 = 0 °C\r\n",
        "\r\n",
        "faren = float(input(\"Entre com a temperatura em Farenheit: \"))\r\n",
        "celsius = ((faren - 32) *  5 / 9)\r\n",
        "\r\n",
        "print(f\"{faren} em Farenheit corresponde a {round(celsius,2)} Celsius.\")"
      ],
      "execution_count": 15,
      "outputs": [
        {
          "output_type": "stream",
          "text": [
            "Entre com a temperatura em Farenheit: 32\n",
            "32.0 em Farenheit corresponde a 0.0 Celsius.\n"
          ],
          "name": "stdout"
        }
      ]
    },
    {
      "cell_type": "markdown",
      "metadata": {
        "id": "mFCgXRPaznno"
      },
      "source": [
        "Crie um algoritmo em Python que peça a temperatura em graus Celsius, transforme e mostre em graus Farenheit."
      ]
    },
    {
      "cell_type": "code",
      "metadata": {
        "id": "xEAAHRi00FS8",
        "colab": {
          "base_uri": "https://localhost:8080/"
        },
        "outputId": "df285003-f6be-4087-d551-07d71bc75e63"
      },
      "source": [
        "# (0 °C × 9/5) + 32 = 32 °F\r\n",
        "\r\n",
        "\r\n",
        "celsius = float(input(\"Entre com a temperatura em Celsius: \"))\r\n",
        "faren = ((celsius * 9/5) + 32)\r\n",
        "\r\n",
        "print(f\"{celsius} em Farenheit corresponde a {round(faren,2)} Celsius.\")\r\n",
        "\r\n"
      ],
      "execution_count": 16,
      "outputs": [
        {
          "output_type": "stream",
          "text": [
            "Entre com a temperatura em Celsius: 0\n",
            "0.0 em Farenheit corresponde a 32.0 Celsius.\n"
          ],
          "name": "stdout"
        }
      ]
    },
    {
      "cell_type": "markdown",
      "metadata": {
        "id": "j3fdhu-8zqu9"
      },
      "source": [
        "Crie um algoritmo em Python que peça 2 números inteiros e um número real. Calcule e mostre:\n",
        "* a soma do dobro do primeiro com metade do segundo .\n",
        "* a soma do triplo do primeiro com o terceiro.\n",
        "* o terceiro elevado ao cubo."
      ]
    },
    {
      "cell_type": "code",
      "metadata": {
        "id": "ZEqZrKjt0F5B",
        "colab": {
          "base_uri": "https://localhost:8080/"
        },
        "outputId": "cbfbf273-49da-427b-a3ff-983022f651f2"
      },
      "source": [
        "a = int(input(\"Entre com o primeiro número inteiro: \"))\r\n",
        "b = int(input(\"Entre com o segundo número inteiro: \"))\r\n",
        "c = float(input(\"Entre com o primeiro número real: \"))\r\n",
        "\r\n",
        "val1 = (a * 2) + (b / 2)\r\n",
        "val2 = (a * 3) + c\r\n",
        "val3 = c**3\r\n",
        "\r\n",
        "print(f\"A soma do dobro do primeiro com metade do segundo é: {val1}\")\r\n",
        "print(f\"A soma do triplo do primeiro com o terceiro é: {val2}\")\r\n",
        "print(f\"O terceiro elevado ao cubo é: {val3}\")\r\n"
      ],
      "execution_count": 18,
      "outputs": [
        {
          "output_type": "stream",
          "text": [
            "Entre com o primeiro número inteiro: 2\n",
            "Entre com o segundo número inteiro: 4\n",
            "Entre com o primeiro número real: 2.5\n",
            "A soma do dobro do primeiro com metade do segundo é: 6.0\n",
            "A soma do triplo do primeiro com o terceiro é: 8.5\n",
            "O terceiro elevado ao cubo é: 15.625\n"
          ],
          "name": "stdout"
        }
      ]
    }
  ]
}