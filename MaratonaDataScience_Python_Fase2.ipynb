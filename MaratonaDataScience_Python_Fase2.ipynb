{
  "nbformat": 4,
  "nbformat_minor": 0,
  "metadata": {
    "colab": {
      "name": "MaratonaDataScience_Python_Fase2.ipynb",
      "provenance": [],
      "collapsed_sections": []
    },
    "kernelspec": {
      "name": "python3",
      "display_name": "Python 3"
    }
  },
  "cells": [
    {
      "cell_type": "markdown",
      "metadata": {
        "id": "CYNAmoj4zSXl"
      },
      "source": [
        "Crie um algoritmo em Python que peça 2 números e imprima o maior deles."
      ]
    },
    {
      "cell_type": "code",
      "metadata": {
        "id": "ViAfpy3GzPN-",
        "colab": {
          "base_uri": "https://localhost:8080/"
        },
        "outputId": "9909998a-06ac-4604-824c-034f613f4b4c"
      },
      "source": [
        "a = int(input(\"Entre com um número inteiro: \"))\r\n",
        "b = int(input(\"Entre com outro número inteiro: \"))\r\n",
        "\r\n",
        "if a > b:\r\n",
        "  print(f\"O maior número é: {a}\")\r\n",
        "elif b > a:\r\n",
        "  print(f\"O maior número é: {b}\")\r\n",
        "else:\r\n",
        "  print(\"Os números são iguais!!!\")\r\n"
      ],
      "execution_count": null,
      "outputs": [
        {
          "output_type": "stream",
          "text": [
            "Entre com um número inteiro: 98\n",
            "Entre com outro número inteiro: 89\n",
            "O maior número é: 98\n"
          ],
          "name": "stdout"
        }
      ]
    },
    {
      "cell_type": "markdown",
      "metadata": {
        "id": "gdMis92izSmQ"
      },
      "source": [
        "Crie um algoritmo em Python que peça um valor e mostre na tela se o valor é positivo ou negativo."
      ]
    },
    {
      "cell_type": "code",
      "metadata": {
        "id": "BFpWkdCBz_zh",
        "colab": {
          "base_uri": "https://localhost:8080/"
        },
        "outputId": "4bf01216-3421-4048-9f9b-1b884a4a046f"
      },
      "source": [
        "a = float(input(\"Entre com um número: \"))\r\n",
        "\r\n",
        "if a > 0:\r\n",
        "  print(f\"O número {a} é positivo! \")\r\n",
        "elif a < 0:\r\n",
        "  print(f\"O número {a} é negativo! \")\r\n",
        "else:\r\n",
        "  print(\"Você encontrou com o zero!!!\")"
      ],
      "execution_count": null,
      "outputs": [
        {
          "output_type": "stream",
          "text": [
            "Entre com um número: -83\n",
            "O número -83.0 é negativo! \n"
          ],
          "name": "stdout"
        }
      ]
    },
    {
      "cell_type": "markdown",
      "metadata": {
        "id": "E_0l_Vx6zSo2"
      },
      "source": [
        "Crie um algoritmo em Python que verifique se uma letra digitada é vogal ou consoante."
      ]
    },
    {
      "cell_type": "code",
      "metadata": {
        "id": "KwJf7XZS0AZW",
        "colab": {
          "base_uri": "https://localhost:8080/"
        },
        "outputId": "101aa92c-3a6a-493c-c472-5c92f9819a98"
      },
      "source": [
        "letra = input(\"Entre com uma letra: \")\r\n",
        "if letra == \"a\" or letra == \"e\" or letra == \"i\" or letra == \"o\" or letra == \"u\":\r\n",
        "  print(\"Esta letra é uma vogal.\")\r\n",
        "else:\r\n",
        "  print(\"Esta letra é uma consoante.\")"
      ],
      "execution_count": null,
      "outputs": [
        {
          "output_type": "stream",
          "text": [
            "Entre com uma letra: u\n",
            "Esta letra é uma vogal.\n"
          ],
          "name": "stdout"
        }
      ]
    },
    {
      "cell_type": "markdown",
      "metadata": {
        "id": "1i4VCiiczSrL"
      },
      "source": [
        "Faça um programa para a leitura de duas notas parciais de um aluno. O programa deve calcular a média alcançada por aluno e apresentar:\n",
        "* \"Aprovado\", se a média alcançada for maior ou igual a sete;\n",
        "* \"Reprovado\", se a média for menor do que sete;\n",
        "* \"Aprovado com Distinção\", se a média for igual a 10."
      ]
    },
    {
      "cell_type": "code",
      "metadata": {
        "id": "yoW67hjA0BHy",
        "colab": {
          "base_uri": "https://localhost:8080/"
        },
        "outputId": "3205d409-4929-4682-99fd-5a4ec7285e0d"
      },
      "source": [
        "a = float(input(\"Entre com a primeira nota: \"))\r\n",
        "b = float(input(\"Entre com a segunda nota: \"))\r\n",
        "c = float(input(\"Entre com a terceira nota: \"))\r\n",
        "d = float(input(\"Entre com a quarta nota: \"))\r\n",
        "media = (a+b+c+d)/4\r\n",
        "\r\n",
        "if media == 10:\r\n",
        "  print(f\"Sua média foi: {media}! Você foi APROVADO COM DISTINÇÃO!!!\")\r\n",
        "elif media >= 7:\r\n",
        "  print(f\"Sua média foi: {media}! Você foi APROVADO!!!\")\r\n",
        "else:\r\n",
        "  print(f\"Sua média foi: {media}! Você foi REPROVADO!!!\")\r\n"
      ],
      "execution_count": null,
      "outputs": [
        {
          "output_type": "stream",
          "text": [
            "Entre com a primeira nota: 5\n",
            "Entre com a segunda nota: 9\n",
            "Entre com a terceira nota: 3\n",
            "Entre com a quarta nota: 6\n",
            "Sua média foi: 5.75! Você foi REPROVADO!!!\n"
          ],
          "name": "stdout"
        }
      ]
    },
    {
      "cell_type": "markdown",
      "metadata": {
        "id": "4ep7kezvzStO"
      },
      "source": [
        "Crie um algoritmo em Python que leia três números e mostre o maior deles."
      ]
    },
    {
      "cell_type": "code",
      "metadata": {
        "id": "6K6IHWdr0Blt",
        "colab": {
          "base_uri": "https://localhost:8080/"
        },
        "outputId": "f5168f74-7b03-47ef-82a0-677c8cce5f53"
      },
      "source": [
        "a = float(input(\"Entre com o primeiro número: \"))\r\n",
        "b = float(input(\"Entre com o segundo número: \"))\r\n",
        "c = float(input(\"Entre com o terceiro número: \"))\r\n",
        "\r\n",
        "if a > b and a > c:\r\n",
        "  print(f\"O maior número é: {a}\")\r\n",
        "elif b > a and b > c:\r\n",
        "  print(f\"O maior número é: {b}\")\r\n",
        "else:  \r\n",
        "  print(f\"O maior número é: {c}\")"
      ],
      "execution_count": null,
      "outputs": [
        {
          "output_type": "stream",
          "text": [
            "Entre com o primeiro número: 10\n",
            "Entre com o segundo número: 20\n",
            "Entre com o terceiro número: 30\n",
            "O maior número é: 30.0\n"
          ],
          "name": "stdout"
        }
      ]
    },
    {
      "cell_type": "markdown",
      "metadata": {
        "id": "u6__NaXqzeYg"
      },
      "source": [
        "Crie um algoritmo em Python que leia três números e mostre o maior e o menor deles."
      ]
    },
    {
      "cell_type": "code",
      "metadata": {
        "id": "mm2L7g3x0Cfx",
        "colab": {
          "base_uri": "https://localhost:8080/"
        },
        "outputId": "03edde31-975d-4f16-8111-e04fb8c831bb"
      },
      "source": [
        "a = float(input(\"Entre com o primeiro número: \"))\r\n",
        "b = float(input(\"Entre com o segundo número: \"))\r\n",
        "c = float(input(\"Entre com o terceiro número: \"))\r\n",
        "\r\n",
        "if a > b and a > c:\r\n",
        "  print(f\"O maior número é: {a}\")\r\n",
        "  if b > c:\r\n",
        "    print(f\"O menor número é: {c}\")\r\n",
        "  else:\r\n",
        "    print(f\"O menor número é: {b}\")\r\n",
        "\r\n",
        "elif b > a and b > c:\r\n",
        "  print(f\"O maior número é: {b}\")\r\n",
        "  if a > c:\r\n",
        "    print(f\"O menor número é: {c}\")\r\n",
        "  else:\r\n",
        "    print(f\"O menor número é: {a}\")\r\n",
        "\r\n",
        "else:  \r\n",
        "  print(f\"O maior número é: {c}\")\r\n",
        "  if a > b:\r\n",
        "    print(f\"O menor número é: {b}\")\r\n",
        "  else:\r\n",
        "    print(f\"O menor número é: {a}\")\r\n"
      ],
      "execution_count": null,
      "outputs": [
        {
          "output_type": "stream",
          "text": [
            "Entre com o primeiro número: 33\n",
            "Entre com o segundo número: 55\n",
            "Entre com o terceiro número: 11\n",
            "O maior número é: 55.0\n",
            "O menor número é: 11.0\n"
          ],
          "name": "stdout"
        }
      ]
    },
    {
      "cell_type": "markdown",
      "metadata": {
        "id": "lIlfG-ATzgOr"
      },
      "source": [
        "Faça um programa que pergunte o preço de 5 produtos e informe qual produto você deve comprar, sabendo que a decisão é sempre pelo mais barato."
      ]
    },
    {
      "cell_type": "code",
      "metadata": {
        "id": "-y4pB6br0DD_",
        "colab": {
          "base_uri": "https://localhost:8080/"
        },
        "outputId": "209e50b1-dbf2-4e83-b823-3caad867c884"
      },
      "source": [
        "prod1 = float(input(\"Informe o preço do produto 1:\"))\r\n",
        "prod2 = float(input(\"Informe o preço do produto 2:\"))\r\n",
        "prod3 = float(input(\"Informe o preço do produto 3:\"))\r\n",
        "prod4 = float(input(\"Informe o preço do produto 4:\"))\r\n",
        "prod5 = float(input(\"Informe o preço do produto 5:\"))\r\n",
        "\r\n",
        "if prod1 < prod2 and prod1 < prod3 and prod1 < prod4 and prod1 < prod5 :\r\n",
        "  print(f\"Compre o produto 1, ele está mais barato! Valor: R$ {prod1}\")\r\n",
        "elif prod2 < prod1 and prod2 < prod3 and prod2 < prod4 and prod2 < prod5 :\r\n",
        "  print(f\"Compre o produto 2, ele está mais barato! Valor: R$ {prod2}\")\r\n",
        "elif prod3 < prod1 and prod3 < prod2 and prod3 < prod4 and prod3 < prod5 :\r\n",
        "  print(f\"Compre o produto 3, ele está mais barato! Valor: R$ {prod3}\")\r\n",
        "elif prod4 < prod1 and prod4 < prod2 and prod4 < prod3 and prod4 < prod5 :\r\n",
        "  print(f\"Compre o produto 4, ele está mais barato! Valor: R$ {prod4}\")\r\n",
        "else:\r\n",
        "  print(f\"Compre o produto 5, ele está mais barato! Valor: R$ {prod5}\")"
      ],
      "execution_count": 26,
      "outputs": [
        {
          "output_type": "stream",
          "text": [
            "Informe o preço do produto 1:100\n",
            "Informe o preço do produto 2:669\n",
            "Informe o preço do produto 3:52\n",
            "Informe o preço do produto 4:4\n",
            "Informe o preço do produto 5:1\n",
            "Compre o produto 5, ele está mais barato! Valor: R$ 1.0\n"
          ],
          "name": "stdout"
        }
      ]
    },
    {
      "cell_type": "markdown",
      "metadata": {
        "id": "Vj4OXsJQziu_"
      },
      "source": [
        "Crie um algoritmo em Python que leia três números e mostre-os em ordem decrescente."
      ]
    },
    {
      "cell_type": "code",
      "metadata": {
        "id": "RmApGpg30D00",
        "colab": {
          "base_uri": "https://localhost:8080/"
        },
        "outputId": "49ee8d54-0ec1-4471-e699-0553123ac97c"
      },
      "source": [
        "a = float(input(\"Entre com o primeiro número: \"))\r\n",
        "b = float(input(\"Entre com o segundo número: \"))\r\n",
        "c = float(input(\"Entre com o terceiro número: \"))\r\n",
        "\r\n",
        "if a>b and a>c:\r\n",
        "  if b>c:\r\n",
        "    print(f\"Ordem decrescente: {a}, {b} e {c}\")\r\n",
        "  else:\r\n",
        "    print(f\"Ordem decrescente: {a}, {c} e {b}\")\r\n",
        "elif b>a and b>c:\r\n",
        "  if a>c:\r\n",
        "    print(f\"Ordem decrescente: {b}, {a} e {c}\")\r\n",
        "  else:\r\n",
        "    print(f\"Ordem decrescente: {b}, {c} e {a}\")\r\n",
        "else:\r\n",
        "   if a>b:\r\n",
        "    print(f\"Ordem decrescente: {c}, {a} e {b}\")\r\n",
        "   else:\r\n",
        "    print(f\"Ordem decrescente: {c}, {b} e {a}\")\r\n"
      ],
      "execution_count": 32,
      "outputs": [
        {
          "output_type": "stream",
          "text": [
            "Entre com o primeiro número: 23\n",
            "Entre com o segundo número: 10\n",
            "Entre com o terceiro número: 15\n",
            "Ordem decrescente: 23.0, 15.0 e 10.0\n"
          ],
          "name": "stdout"
        }
      ]
    },
    {
      "cell_type": "markdown",
      "metadata": {
        "id": "e7id8Ewgzlow"
      },
      "source": [
        "As Organizações Mendéz resolveram dar um aumento de salário aos seus colaboradores e lhe contraram para desenvolver o programa que calculará os reajustes em Python. Faça um programa que receba o salário de um colaborador e o reajuste segundo o seguinte critério, baseado no salário atual:\n",
        "\n",
        "* salários entre 680,00 e 800,00 : aumento de 15%<br>\n",
        "* salários entre 800,00 e 2500,00 : aumento de 10%<br>\n",
        "* salários de 2500,00 em diante : aumento de 5% após o aumento ser realizado.\n",
        "\n",
        "Informe na tela:\n",
        "* o salário antes do reajuste;\n",
        "* o percentual de aumento aplicado;\n",
        "* o valor do aumento;\n",
        "* o novo salário, após o aumento."
      ]
    },
    {
      "cell_type": "code",
      "metadata": {
        "id": "Kl0ainsv0Eif",
        "colab": {
          "base_uri": "https://localhost:8080/"
        },
        "outputId": "dbba13f8-76d0-40b9-9c10-6fac0913ef9c"
      },
      "source": [
        "salario = float(input(\"Entre com o seu salário: R$ \"))\r\n",
        "if salario >= 2500:\r\n",
        "  print(f\"Seu salário de {salario} vai receber um reajuste de 5%. Novo valor: {round(salario * 1.05, 2)}\")\r\n",
        "elif salario <= 800:\r\n",
        "  print(f\"Seu salário de {salario} vai receber um reajuste de 15%. Novo valor: {round(salario * 1.15, 2)}\")\r\n",
        "else:\r\n",
        "  print(f\"Seu salário de {salario} vai receber um reajuste de 10%. Novo valor: {round(salario * 1.10, 2)}\")"
      ],
      "execution_count": 38,
      "outputs": [
        {
          "output_type": "stream",
          "text": [
            "Entre com o seu salário: R$ 1655\n",
            "Seu salário de 1655.0 vai receber um reajuste de 10%. Novo valor: 1820.5\n"
          ],
          "name": "stdout"
        }
      ]
    }
  ]
}