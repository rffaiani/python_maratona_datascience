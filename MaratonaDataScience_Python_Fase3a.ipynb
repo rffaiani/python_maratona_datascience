{
  "nbformat": 4,
  "nbformat_minor": 0,
  "metadata": {
    "colab": {
      "name": "MaratonaDataScience_Python_Fase3a.ipynb",
      "provenance": [],
      "collapsed_sections": []
    },
    "kernelspec": {
      "name": "python3",
      "display_name": "Python 3"
    }
  },
  "cells": [
    {
      "cell_type": "markdown",
      "metadata": {
        "id": "CYNAmoj4zSXl"
      },
      "source": [
        "Crie um algoritmo em Python que peça uma nota, entre zero e 100. Mostre uma mensagem caso o valor seja inválido e continue pedindo até que o usuário informe um valor válido."
      ]
    },
    {
      "cell_type": "code",
      "metadata": {
        "id": "ViAfpy3GzPN-",
        "colab": {
          "base_uri": "https://localhost:8080/"
        },
        "outputId": "49bdb0b8-06a7-4b8e-fbf8-e0bc7c21b05f"
      },
      "source": [
        "nota = int(input(\"Entre com uma nota entre 0 e 100: \"))\r\n",
        "\r\n",
        "while nota>100:\r\n",
        "  print(\"Valor inválido!!!\")\r\n",
        "  nota = int(input(\"Entre com uma nota entre 0 e 100: \"))\r\n",
        "\r\n",
        "print(f\"A nota digitada foi: {nota}\")"
      ],
      "execution_count": null,
      "outputs": [
        {
          "output_type": "stream",
          "text": [
            "Entre com uma nota entre 0 e 100: 112\n",
            "Valor inválido!!!\n",
            "Entre com uma nota entre 0 e 100: 55\n",
            "A nota digitada foi: 55\n"
          ],
          "name": "stdout"
        }
      ]
    },
    {
      "cell_type": "markdown",
      "metadata": {
        "id": "gdMis92izSmQ"
      },
      "source": [
        "Crie um algoritmo em Python que leia um nome de usuário e a sua senha e não aceite a senha igual ao nome do usuário, mostrando uma mensagem de erro e voltando a pedir as informações.<br>"
      ]
    },
    {
      "cell_type": "code",
      "metadata": {
        "id": "BFpWkdCBz_zh",
        "colab": {
          "base_uri": "https://localhost:8080/"
        },
        "outputId": "edc9a22b-9ea7-4484-e25a-dcb46a4ad58a"
      },
      "source": [
        "usuario = input(\"Entre com o nome do usuário: \")\r\n",
        "senha = input(\"Entre com a senha: \")\r\n",
        "\r\n",
        "while usuario == senha:\r\n",
        "  print(\"Erro! Senha igual ao nome de usuário!\")\r\n",
        "  usuario = input(\"Entre com o nome do usuário: \")\r\n",
        "  senha = input(\"Entre com a senha: \")\r\n",
        "\r\n",
        "print(f\"O usuário {usuario} foi cadastrado com sucesso!!!\")\r\n"
      ],
      "execution_count": null,
      "outputs": [
        {
          "output_type": "stream",
          "text": [
            "Entre com o nome do usuário: rafael\n",
            "Entre com a senha: rafael\n",
            "Erro! Senha igual ao nome de usuário!\n",
            "Entre com o nome do usuário: rafael\n",
            "Entre com a senha: rafael\n",
            "Erro! Senha igual ao nome de usuário!\n",
            "Entre com o nome do usuário: rafael\n",
            "Entre com a senha: rafa123\n",
            "O usuário rafael foi cadastrado com sucesso!!!\n"
          ],
          "name": "stdout"
        }
      ]
    },
    {
      "cell_type": "markdown",
      "metadata": {
        "id": "E_0l_Vx6zSo2"
      },
      "source": [
        "Crie um algoritmo em Python que leia e valide as seguintes informações:\n",
        "* Nome: maior que 3 caracteres;\n",
        "* Idade: entre 0 e 150;\n",
        "* Salário: maior que zero;\n",
        "* Sexo: 'f' ou 'm';\n",
        "* Estado Civil: 's', 'c', 'v', 'd';"
      ]
    },
    {
      "cell_type": "code",
      "metadata": {
        "id": "KwJf7XZS0AZW",
        "colab": {
          "base_uri": "https://localhost:8080/"
        },
        "outputId": "13973235-d94b-4b5a-a626-3d8164d6734a"
      },
      "source": [
        "nome = input(\"Entre com o seu nome: \")\r\n",
        "while len(nome) < 4:\r\n",
        "  print(\"O nome precisa ter mais que 3 caracteres! Tente novamente... \")\r\n",
        "  nome = input(\"Entre com o seu nome!\")\r\n",
        "\r\n",
        "idade = int(input(\"Entre com a sua idade: \"))\r\n",
        "while idade > 150 :\r\n",
        "  print(\"A idade precisa estar entre 0 e 150! Tente novamente... \")\r\n",
        "  idade = int(input(\"Entre com a sua idade: \"))\r\n",
        "\r\n",
        "salario = float(input(\"Entre com o seu salário: R$\"))\r\n",
        "while salario < 0:\r\n",
        "  print(\"Salário inválido! Tente novamente...\")\r\n",
        "  salario = float(input(\"Entre com o seu salário: R$\"))\r\n",
        "\r\n",
        "sexo = input(\"Entre com o seu sexo (m/f): \")\r\n",
        "while sexo != \"m\" and sexo != \"f\" :\r\n",
        "  print(\"Inválido! Entre com 'm' para masculino e 'f' para feminino!\")\r\n",
        "  sexo = input(\"Entre com o seu sexo (m/f): \")\r\n",
        "\r\n",
        "estadoCivil = input(\"Entre com o seu estado civil(s/c/v/d): \")\r\n",
        "while estadoCivil != \"s\" and estadoCivil != \"c\" and estadoCivil != \"v\" and estadoCivil != \"d\" :\r\n",
        "  print(\"Inválido! Entre com 's' para solteiro, 'c' para casado, 'v' para viuvo, 'd' para divorciado: \")\r\n",
        "  estadoCivil = input(\"Entre com o seu estado civil(s/c/v/d): \")\r\n",
        "\r\n",
        "print(\"Programa finalizado! :)\")"
      ],
      "execution_count": null,
      "outputs": [
        {
          "output_type": "stream",
          "text": [
            "Entre com o seu nome: raf\n",
            "O nome precisa ter mais que 3 caracteres! Tente novamente... \n",
            "Entre com o seu nome!\n",
            "rafael\n",
            "Entre com a sua idade: 198\n",
            "A idade precisa estar entre 0 e 150! Tente novamente... \n",
            "Entre com a sua idade: 37\n",
            "Entre com o seu salário: R$-200\n",
            "Salário inválido! Tente novamente...\n",
            "Entre com o seu salário: R$4900\n",
            "Entre com o seu sexo (m/f): z\n",
            "Inválido! Entre com 'm' para masculino e 'f' para feminino!\n",
            "Entre com o seu sexo (m/f): m\n",
            "Entre com o seu estado civil(s/c/v/d): z\n",
            "Inválido! Entre com 's' para solteiro, 'c' para casado, 'v' para viuvo, 'd' para divorciado: \n",
            "Entre com o seu estado civil(s/c/v/d): c\n",
            "Programa finalizado!)\n"
          ],
          "name": "stdout"
        }
      ]
    },
    {
      "cell_type": "markdown",
      "metadata": {
        "id": "1i4VCiiczSrL"
      },
      "source": [
        "Supondo que a população de um país A seja da ordem de 80000 habitantes com uma taxa anual de crescimento de 3% e que a população de B seja 200000 habitantes com uma taxa de crescimento de 1.5%.<br><br> Crie um algoritmo em Python que calcule e escreva o número de anos necessários para que a população do país A ultrapasse ou iguale a população do país B, mantidas as taxas de crescimento."
      ]
    },
    {
      "cell_type": "code",
      "metadata": {
        "id": "yoW67hjA0BHy",
        "colab": {
          "base_uri": "https://localhost:8080/"
        },
        "outputId": "5b6d3328-013b-403e-d30e-8731919ea877"
      },
      "source": [
        "popA = 80000\r\n",
        "popB = 200000\r\n",
        "taxaA = 1.03\r\n",
        "taxaB = 1.015\r\n",
        "\r\n",
        "i = 0\r\n",
        "while popB > popA:\r\n",
        "  popA = popA * taxaA\r\n",
        "  popB = popB * taxaB\r\n",
        "  i = i + 1\r\n",
        "\r\n",
        "print(f\"O número de anos para a população do país A ultrapassar o país B é: {i} \")"
      ],
      "execution_count": null,
      "outputs": [
        {
          "output_type": "stream",
          "text": [
            "O número de anos para a população do país A ultrapassar o país B é: 63 \n"
          ],
          "name": "stdout"
        }
      ]
    },
    {
      "cell_type": "markdown",
      "metadata": {
        "id": "4ep7kezvzStO"
      },
      "source": [
        "Desenvolva um gerador de tabuada, capaz de gerar a tabuada de qualquer número inteiro entre 1 a 10. O usuário deve informar de qual numero ele deseja ver a tabuada. A saída deve ser conforme o exemplo abaixo:\n",
        "Tabuada de 5:<br>\n",
        "5 X 1 = 5<br>\n",
        "5 X 2 = 10<br>\n",
        "...<br>\n",
        "5 X 10 = 50<br>"
      ]
    },
    {
      "cell_type": "code",
      "metadata": {
        "id": "6K6IHWdr0Blt",
        "colab": {
          "base_uri": "https://localhost:8080/"
        },
        "outputId": "b3b09747-be71-4e71-ce56-48a76bc2969d"
      },
      "source": [
        "tabuada = int(input(\"Digite qual tabuada você quer saber: \"))\r\n",
        "print(f\"Tabuada do número: {tabuada} \")\r\n",
        "\r\n",
        "for valor in range(1,11,1):\r\n",
        "  print(f\"Tabuada do {tabuada}: {tabuada} x {valor} = {tabuada*valor}\"  )"
      ],
      "execution_count": null,
      "outputs": [
        {
          "output_type": "stream",
          "text": [
            "Digite qual tabuada você quer saber: 7\n",
            "Tabuada do número: 7 \n",
            "Tabuada do 7: 7 x 1 = 7\n",
            "Tabuada do 7: 7 x 2 = 14\n",
            "Tabuada do 7: 7 x 3 = 21\n",
            "Tabuada do 7: 7 x 4 = 28\n",
            "Tabuada do 7: 7 x 5 = 35\n",
            "Tabuada do 7: 7 x 6 = 42\n",
            "Tabuada do 7: 7 x 7 = 49\n",
            "Tabuada do 7: 7 x 8 = 56\n",
            "Tabuada do 7: 7 x 9 = 63\n",
            "Tabuada do 7: 7 x 10 = 70\n"
          ],
          "name": "stdout"
        }
      ]
    },
    {
      "cell_type": "markdown",
      "metadata": {
        "id": "u6__NaXqzeYg"
      },
      "source": [
        "Crie um algoritmo em Python que leia três números e mostre o maior e o menor deles."
      ]
    },
    {
      "cell_type": "code",
      "metadata": {
        "id": "mm2L7g3x0Cfx",
        "colab": {
          "base_uri": "https://localhost:8080/"
        },
        "outputId": "90735db7-104b-4fbf-db41-391b3054b41e"
      },
      "source": [
        "a = int(input(\"Entre com o primeiro número inteiro: \"))\r\n",
        "b = int(input(\"Entre com o segundo número inteiro: \"))\r\n",
        "c = int(input(\"Entre com o terceiro número inteiro: \"))\r\n",
        "\r\n",
        "if a>b and a>c:\r\n",
        "  print(f\"O maior número é {a}.\")\r\n",
        "  if b<c:\r\n",
        "    print(f\"O menor número é {b}.\")\r\n",
        "  else:\r\n",
        "    print(f\"O menor número é {c}.\")\r\n",
        "\r\n",
        "elif b>a and b>c:\r\n",
        "  print(f\"O maior número é {b}.\")\r\n",
        "  if a<c:\r\n",
        "    print(f\"O menor número é {a}.\")\r\n",
        "  else:\r\n",
        "    print(f\"O menor número é {c}.\")\r\n",
        "\r\n",
        "else:\r\n",
        "  print(f\"O maior número é {c}.\")\r\n",
        "  if b<a:\r\n",
        "    print(f\"O menor número é {b}.\")\r\n",
        "  else:\r\n",
        "    print(f\"O menor número é {a}.\")\r\n"
      ],
      "execution_count": null,
      "outputs": [
        {
          "output_type": "stream",
          "text": [
            "Entre com o primeiro número inteiro: 16\n",
            "Entre com o segundo número inteiro: 20\n",
            "Entre com o terceiro número inteiro: 12\n",
            "O maior número é 20.\n",
            "O menor número é 12.\n"
          ],
          "name": "stdout"
        }
      ]
    },
    {
      "cell_type": "markdown",
      "metadata": {
        "id": "lIlfG-ATzgOr"
      },
      "source": [
        "Crie um algoritmo em Python que peça 2 números, base e expoente, calcule e mostre o primeiro número elevado ao segundo número. Não utilize a função de potência da linguagem."
      ]
    },
    {
      "cell_type": "code",
      "metadata": {
        "id": "-y4pB6br0DD_",
        "colab": {
          "base_uri": "https://localhost:8080/"
        },
        "outputId": "52e8ffaa-ac80-4a9e-9add-9383b04868e0"
      },
      "source": [
        "a = int(input(\"Entre com o primeiro número(base): \"))\r\n",
        "b = int(input(\"Entre com o segundo número(expoente): \"))\r\n",
        "\r\n",
        "i=1\r\n",
        "new = a\r\n",
        "while b>i :\r\n",
        "  new = new*a\r\n",
        "  i=i+1\r\n",
        "\r\n",
        "if b == 0:\r\n",
        "  print(\"Todo número elevado a zero é 1!\")\r\n",
        "elif b == 1:\r\n",
        "  print(f\"Todo número elevado a 1 é ele mesmo! No caso: {a}\")\r\n",
        "else:\r\n",
        "  print(f\"O valor da base elevado ao expoente é: {new} \")\r\n"
      ],
      "execution_count": null,
      "outputs": [
        {
          "output_type": "stream",
          "text": [
            "Entre com o primeiro número(base): 2\n",
            "Entre com o segundo número(expoente): 3\n",
            "O valor da base elevado ao expoente é: 8 \n"
          ],
          "name": "stdout"
        }
      ]
    },
    {
      "cell_type": "markdown",
      "metadata": {
        "id": "Vj4OXsJQziu_"
      },
      "source": [
        "Crie um algoritmo em Python que peça 10 números inteiros, calcule e mostre a quantidade de números pares e a quantidade de números impares."
      ]
    },
    {
      "cell_type": "code",
      "metadata": {
        "id": "RmApGpg30D00",
        "colab": {
          "base_uri": "https://localhost:8080/"
        },
        "outputId": "f370ac4b-2d79-46c3-c5d8-de51bb6d016a"
      },
      "source": [
        "a = int(input(\"Entre com o primeiro número inteiro: \"))\r\n",
        "b = int(input(\"Entre com o segundo número inteiro: \"))\r\n",
        "c = int(input(\"Entre com o terceiro número inteiro: \"))\r\n",
        "d = int(input(\"Entre com o quarto número inteiro: \"))\r\n",
        "e = int(input(\"Entre com o quinto número inteiro: \"))\r\n",
        "\r\n",
        "lista = [a,b,c,d,e]\r\n",
        "#print(lista)\r\n",
        "#type(lista)\r\n",
        "contPar = 0\r\n",
        "total = len(lista)\r\n",
        "print(f\"Qtde de entradas: {total}\")\r\n",
        "\r\n",
        "for i in range(0,total):\r\n",
        "  if lista[i]%2 == 0:\r\n",
        "    lista_par = lista[i]\r\n",
        "    #print(lista_par)\r\n",
        "    contPar = contPar + 1\r\n",
        "\r\n",
        "print(f\"Qtde de números pares: {contPar}\")\r\n",
        "print(f\"Qtde de números ímpares: {total - contPar}\")\r\n"
      ],
      "execution_count": null,
      "outputs": [
        {
          "output_type": "stream",
          "text": [
            "Entre com o primeiro número inteiro: 1\n",
            "Entre com o segundo número inteiro: 22\n",
            "Entre com o terceiro número inteiro: 44\n",
            "Entre com o quarto número inteiro: 88\n",
            "Entre com o  número inteiro: 91\n",
            "Qtde de entradas: 5\n",
            "Qtde de números pares: 3\n",
            "Qtde de números ímpares: 2\n"
          ],
          "name": "stdout"
        }
      ]
    },
    {
      "cell_type": "markdown",
      "metadata": {
        "id": "e7id8Ewgzlow"
      },
      "source": [
        "Um funcionário de uma empresa recebe aumento salarial anualmente: Sabe-se que:\n",
        "Esse funcionário foi contratado em 1995, com salário inicial de R$ 1.000,00;\n",
        "Em 1996 recebeu aumento de 1,5% sobre seu salário inicial;\n",
        "A partir de 1997 (inclusive), os aumentos salariais sempre correspondem ao dobro do percentual do ano anterior. Crie um algoritmo em Python que determine o salário atual desse funcionário. Após concluir isto, altere o programa permitindo que o usuário digite o salário inicial do funcionário."
      ]
    },
    {
      "cell_type": "code",
      "metadata": {
        "id": "Kl0ainsv0Eif",
        "colab": {
          "base_uri": "https://localhost:8080/"
        },
        "outputId": "0d975d02-3bd9-4255-bc00-0c8ce2b73a02"
      },
      "source": [
        "#salario1995 = 1000\r\n",
        "aumento = 1.015\r\n",
        "\r\n",
        "salario = float(input(\"Entre com o salário a ser calculado o reajuste: \"))\r\n",
        "ano = 1995\r\n",
        "salarioNew = salario\r\n",
        "\r\n",
        "while ano < 2020:\r\n",
        "  salarioNew = salarioNew*1.015\r\n",
        "  ano = ano + 1\r\n",
        "\r\n",
        "print(f\"O salário reajustado para o ano de 2020 é: {round(salarioNew,2)} \")\r\n",
        "\r\n"
      ],
      "execution_count": 4,
      "outputs": [
        {
          "output_type": "stream",
          "text": [
            "Entre com o salário a ser calculado o reajuste: 1000\n",
            "O salário reajustado para o ano de 2020 é: 1450.95 \n"
          ],
          "name": "stdout"
        }
      ]
    },
    {
      "cell_type": "markdown",
      "metadata": {
        "id": "5u9i4kzm-itX"
      },
      "source": [
        "Crie um algoritmo em Python com uma função que necessite de um argumento. A função retorna o valor de caractere ‘P’, se seu argumento for positivo, e ‘N’, se seu argumento for zero ou negativo."
      ]
    },
    {
      "cell_type": "code",
      "metadata": {
        "id": "WNt8CLa2-rGt",
        "colab": {
          "base_uri": "https://localhost:8080/",
          "height": 35
        },
        "outputId": "f8ab62b3-6160-480e-93e4-70eb3f4bb37a"
      },
      "source": [
        "def funcao_teste(x):\r\n",
        "  if x>0:\r\n",
        "    return \"P\"\r\n",
        "  else:\r\n",
        "    return \"N\"\r\n",
        "\r\n",
        "funcao_teste(2)\r\n"
      ],
      "execution_count": 11,
      "outputs": [
        {
          "output_type": "execute_result",
          "data": {
            "application/vnd.google.colaboratory.intrinsic+json": {
              "type": "string"
            },
            "text/plain": [
              "'P'"
            ]
          },
          "metadata": {
            "tags": []
          },
          "execution_count": 11
        }
      ]
    },
    {
      "cell_type": "markdown",
      "metadata": {
        "id": "CHiYMSOJ-rSY"
      },
      "source": [
        "Construa uma função que receba uma data no formato DD/MM/AAAA e devolva uma string no formato D de mesPorExtenso de AAAA. Opcionalmente, valide a data e retorne NULL caso a data seja inválida."
      ]
    },
    {
      "cell_type": "code",
      "metadata": {
        "id": "6Ukxx6gQ-r4-",
        "colab": {
          "base_uri": "https://localhost:8080/",
          "height": 35
        },
        "outputId": "d159f3b5-bcbe-4a16-b031-cfe50891047d"
      },
      "source": [
        "\r\n",
        "def func_data(x,y,z):\r\n",
        "  if y == 1:\r\n",
        "    mes = \" de janeiro \"\r\n",
        "  elif y == 2:\r\n",
        "    mes = \" de fevereiro \"\r\n",
        "  else:\r\n",
        "    mes = \" de marco-dezembro \"\r\n",
        "  return str(x) + mes + str(z)\r\n",
        "\r\n",
        "\r\n",
        "func_data(1,1,2021)"
      ],
      "execution_count": 17,
      "outputs": [
        {
          "output_type": "execute_result",
          "data": {
            "application/vnd.google.colaboratory.intrinsic+json": {
              "type": "string"
            },
            "text/plain": [
              "'1 de janeiro 2021'"
            ]
          },
          "metadata": {
            "tags": []
          },
          "execution_count": 17
        }
      ]
    },
    {
      "cell_type": "markdown",
      "metadata": {
        "id": "AzUYbZ8A-zj7"
      },
      "source": [
        "Crie uma classe que modele uma pessoa:<br>\n",
        "\n",
        "Atributos: nome, idade, peso e altura<br>\n",
        "Métodos: Envelhercer, engordar, emagrecer, crescer.<br>\n",
        "<br>Obs: Por padrão, a cada ano que nossa pessoa envelhece, sendo a idade dela menor que 21 anos, ela deve crescer 0,5 cm."
      ]
    },
    {
      "cell_type": "code",
      "metadata": {
        "colab": {
          "base_uri": "https://localhost:8080/"
        },
        "id": "PZjBy7NRao0H",
        "outputId": "ddadb1b8-a9aa-4628-eda7-5d452eeb65e0"
      },
      "source": [
        "class Pessoa:\r\n",
        "    def __init__(self, nome: str, idade: int, peso: float, altura: float):\r\n",
        "        self.nome = nome\r\n",
        "        self.idade = idade\r\n",
        "        self.peso = peso\r\n",
        "        self.altura = altura\r\n",
        "\r\n",
        "    def envelhecer(self):\r\n",
        "        while self.idade < 21:\r\n",
        "            self.altura = self.altura + 0.5\r\n",
        "            self.idade = self.idade + 1\r\n",
        "\r\n",
        "    def engordar(self, peso):\r\n",
        "        self.peso += peso\r\n",
        "\r\n",
        "    def emagrecer(self, peso):\r\n",
        "        self.peso -= peso\r\n",
        "\r\n",
        "    def crescer(self, altura):\r\n",
        "        self.altura += altura\r\n",
        "\r\n",
        "\r\n",
        "    def mostraPessoa(self):\r\n",
        "        print(f'Nome: {self.nome}, idade: {self.idade} anos, peso: {self.peso}kg, altura: {self.altura}cm')\r\n",
        "\r\n",
        "\r\n",
        "p1 = Pessoa('João', 19, 78, 188)\r\n",
        "p1.mostraPessoa()\r\n",
        "p1.envelhecer()\r\n",
        "#p1.emagrecer()\r\n",
        "p1.mostraPessoa()"
      ],
      "execution_count": 33,
      "outputs": [
        {
          "output_type": "stream",
          "text": [
            "Nome: João, idade: 19 anos, peso: 78kg, altura: 188cm\n",
            "Nome: João, idade: 21 anos, peso: 78kg, altura: 189.0cm\n"
          ],
          "name": "stdout"
        }
      ]
    }
  ]
}